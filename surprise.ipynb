{
 "cells": [
  {
   "cell_type": "code",
   "execution_count": 3,
   "id": "2e0f1933-af5c-4465-8560-c2927051b8b5",
   "metadata": {},
   "outputs": [],
   "source": [
    "# Data manipulation\n",
    "import numpy as np\n",
    "import pandas as pd\n",
    "pd.options.display.max_rows = 100\n",
    "\n",
    "# Modeling\n",
    "# from matrix_factorization import BaselineModel, KernelMF, train_update_test_split\n",
    "# from sklearn.metrics import mean_squared_error\n",
    "# from sklearn.model_selection import train_test_split\n",
    "\n",
    "import pickle\n",
    "\n",
    "# Other\n",
    "import os\n",
    "import random\n",
    "import sys\n",
    "\n",
    "from letterboxdpy import user\n",
    "from letterboxdpy import movie\n",
    "\n",
    "import sqlite3\n",
    "import pandas as pd\n",
    "\n",
    "from surprise.model_selection import train_test_split\n",
    "from surprise import SVD\n",
    "from surprise.model_selection import GridSearchCV\n",
    "from surprise.model_selection import cross_validate\n",
    "from surprise import Dataset\n",
    "from surprise import Reader\n",
    "from surprise import accuracy\n",
    "\n",
    "import sklearn\n",
    "\n",
    "import numpy as np\n",
    "from sklearn.metrics.pairwise import cosine_similarity"
   ]
  },
  {
   "cell_type": "markdown",
   "id": "ecef9fe5-f3ce-4b2f-984b-363fc7d30e87",
   "metadata": {
    "jp-MarkdownHeadingCollapsed": true
   },
   "source": [
    "# Get the data (database shit - oud)"
   ]
  },
  {
   "cell_type": "code",
   "execution_count": null,
   "id": "cb2e171d-0439-4429-a02c-538d5866c466",
   "metadata": {},
   "outputs": [],
   "source": [
    "%%time\n",
    "\n",
    "user1 = \"sverlaan\"\n",
    "user1_inst = user.User(user1)\n",
    "wl1 = {movie['slug'] for movie in user1_inst.get_watchlist()['data'].values()}\n",
    "get_movies1 = user1_inst.get_films()\n",
    "allmovies1 = [movie for movie in get_movies1['movies'].keys()]\n",
    "\n",
    "user2 = \"liannehr\"\n",
    "user2_inst = user.User(user2)\n",
    "wl2 = {movie['slug'] for movie in user2_inst.get_watchlist()['data'].values()}\n",
    "get_movies2 = user2_inst.get_films()\n",
    "allmovies2 = [movie for movie in get_movies2['movies'].keys()]\n",
    "\n",
    "allmovies = list(wl2.union(wl1).union(allmovies2).union(allmovies1))"
   ]
  },
  {
   "cell_type": "code",
   "execution_count": null,
   "id": "1104e7b5-f164-4267-907a-d311b8e60f4f",
   "metadata": {},
   "outputs": [],
   "source": [
    "len(allmovies)"
   ]
  },
  {
   "cell_type": "code",
   "execution_count": null,
   "id": "b8f7df09-6c02-491b-93fd-05c824db7bef",
   "metadata": {},
   "outputs": [],
   "source": [
    "# Path to your SQLite database file\n",
    "db_path = \"bootstrap_project/ratingsdb/ratings.db\"  # Change this to your actual file path\n",
    "# List of movie IDs you want to filter\n",
    "movie_ids = allmovies\n",
    "\n",
    "# Connect to the database\n",
    "conn = sqlite3.connect(db_path)\n",
    "cursor = conn.cursor()"
   ]
  },
  {
   "cell_type": "code",
   "execution_count": null,
   "id": "474f87e2-72f5-46b7-8177-bdba4655205f",
   "metadata": {},
   "outputs": [],
   "source": [
    "%%time\n",
    "# Create a dynamic SQL query using placeholders\n",
    "placeholders = \", \".join([\"?\"] * len(movie_ids))  # Creates \"?, ?, ?\" for each movie_id\n",
    "query = f\"SELECT * FROM ratings WHERE movie_id IN ({placeholders})\"\n",
    "\n",
    "# Execute query with movie_ids as parameters\n",
    "cursor.execute(query, movie_ids)\n",
    "\n",
    "# Fetch all matching rows\n",
    "results = cursor.fetchall()\n",
    "\n",
    "# Close the connection when done\n",
    "conn.close()"
   ]
  },
  {
   "cell_type": "code",
   "execution_count": null,
   "id": "b2a3b9ad-5bc3-4ba2-90de-3b5107e9a325",
   "metadata": {},
   "outputs": [],
   "source": [
    "%%time\n",
    "# Define column names\n",
    "columns = [\"userId\", \"movieId\", \"rating\"]\n",
    "\n",
    "# Create DataFrame\n",
    "df = pd.DataFrame(results, columns=columns)\n",
    "\n",
    "# Print DataFrame\n",
    "df.head()"
   ]
  },
  {
   "cell_type": "code",
   "execution_count": null,
   "id": "ffcdd0fe-87d9-4072-abdd-52cd9d5718be",
   "metadata": {},
   "outputs": [],
   "source": [
    "unique_counts = df.nunique()\n",
    "print(unique_counts)\n"
   ]
  },
  {
   "cell_type": "markdown",
   "id": "81e16f46-0d0c-4aba-9661-bff80c5019d8",
   "metadata": {},
   "source": [
    "# Get the data (database shit - oud)"
   ]
  },
  {
   "cell_type": "markdown",
   "id": "45d3c583-b595-47b6-a619-f168ae423d6c",
   "metadata": {},
   "source": [
    "# Setup data"
   ]
  },
  {
   "cell_type": "code",
   "execution_count": null,
   "id": "654fadd4-4ac5-4678-bf1f-ed070a971c4b",
   "metadata": {},
   "outputs": [],
   "source": [
    "df = pd.read_csv(\"data/ratings.csv\", dtype={\n",
    "    'user_name': 'string',\n",
    "    'film_id': 'string',\n",
    "    'rating': 'float64'\n",
    "})\n",
    "\n",
    "df = df.rename(columns={'user_name': 'userId', 'film_id': 'movieId'})\n",
    "df"
   ]
  },
  {
   "cell_type": "code",
   "execution_count": null,
   "id": "674e4635-c2b3-49cd-ae29-76f62f0e81fb",
   "metadata": {},
   "outputs": [],
   "source": [
    "df[df[\"movieId\"] == \"pickpocket\"]"
   ]
  },
  {
   "cell_type": "code",
   "execution_count": null,
   "id": "2242515f-85ae-4ca3-bfef-89832884c978",
   "metadata": {},
   "outputs": [],
   "source": [
    "df = df[df.groupby(\"movieId\")[\"movieId\"].transform(\"count\") >= 1000]   # only movies that more than 1000 users have seen\n",
    "df = df[df.groupby(\"userId\")[\"userId\"].transform(\"count\") >= 10]       # only users with more than 10 watched movies\n",
    "print(\"Num users:\", len(df[\"userId\"].unique()))\n",
    "print(\"Num movies:\", len(df[\"movieId\"].unique()))\n",
    "\n",
    "#df.to_csv('data/ratings_filtered.csv', index=False)\n",
    "\n",
    "df"
   ]
  },
  {
   "cell_type": "code",
   "execution_count": null,
   "id": "8e0174fd-5c3e-42bc-918a-1b4826e1c96c",
   "metadata": {},
   "outputs": [],
   "source": [
    "# For faster model training\n",
    "random_users = random_users = df['userId'].drop_duplicates().sample(n=5000, replace=False)\n",
    "df = df[df['userId'].isin(random_users)]"
   ]
  },
  {
   "cell_type": "code",
   "execution_count": null,
   "id": "da5fe987-b809-481d-aaa8-796bd0f8c2c3",
   "metadata": {},
   "outputs": [],
   "source": [
    "%%time\n",
    "username1 = \"liannehr\"\n",
    "user_inst1 = user.User(username1)\n",
    "watchlist1 = {movie['slug'] for movie in user_inst1.get_watchlist()['data'].values()}\n",
    "ratings1 = user_inst1.get_films()\n",
    "\n",
    "username2 = \"sverlaan\"\n",
    "user_inst2 = user.User(username2)\n",
    "watchlist2 = {movie['slug'] for movie in user_inst2.get_watchlist()['data'].values()}\n",
    "ratings2 = user_inst2.get_films()"
   ]
  },
  {
   "cell_type": "code",
   "execution_count": null,
   "id": "b23ac9d1-0d7d-472a-8e3d-a0496da08585",
   "metadata": {},
   "outputs": [],
   "source": [
    "user_rows1 = [(username1, slug, info['rating'] / 2.0) for slug, info in ratings1['movies'].items() if info['rating'] is not None]\n",
    "user_rows2 = [(username2, slug, info['rating'] / 2.0) for slug, info in ratings2['movies'].items() if info['rating'] is not None]\n",
    "combined_rows = user_rows1+user_rows2"
   ]
  },
  {
   "cell_type": "code",
   "execution_count": null,
   "id": "7911dda4-f626-4e48-9c48-7a9d340552ab",
   "metadata": {},
   "outputs": [],
   "source": [
    "# Add high star ratings multiple times?\n",
    "high_star_rows = [(u, m, r) for (u, m, r) in user_rows1 if r >= 4.5] * 3\n",
    "combined_rows = user_rows1+high_star_rows"
   ]
  },
  {
   "cell_type": "code",
   "execution_count": null,
   "id": "35aaf125-7aff-41a1-a2ae-b94db37f8ba4",
   "metadata": {},
   "outputs": [],
   "source": [
    "new_df = pd.DataFrame(combined_rows, columns=df.columns)\n",
    "df = pd.concat([df, new_df], ignore_index=True)\n",
    "df.tail()"
   ]
  },
  {
   "cell_type": "code",
   "execution_count": null,
   "id": "0402f5b9-d500-493b-8b76-b6a1e2adf687",
   "metadata": {},
   "outputs": [],
   "source": [
    "# Encode user_id and item_id\n",
    "df[\"userId\"], user_mapping = pd.factorize(df[\"userId\"])\n",
    "df[\"movieId\"], item_mapping = pd.factorize(df[\"movieId\"])\n",
    "\n",
    "# Function to get user ID from username\n",
    "def get_user_id(username):\n",
    "    try:\n",
    "        return user_mapping.tolist().index(username)\n",
    "    except:\n",
    "        return None\n",
    "\n",
    "def get_user_name(id):\n",
    "    try:\n",
    "        return user_mapping[id]\n",
    "    except:\n",
    "        return None\n",
    "\n",
    "def get_movie_id(slug):\n",
    "    try:\n",
    "        return item_mapping.tolist().index(slug)\n",
    "    except:\n",
    "        return None\n",
    "        \n",
    "def get_movie_name(id):\n",
    "    try:\n",
    "        return item_mapping[id]\n",
    "    except:\n",
    "        return None"
   ]
  },
  {
   "cell_type": "code",
   "execution_count": null,
   "id": "4810c898-b5a3-4cfa-87df-4929f7efce42",
   "metadata": {},
   "outputs": [],
   "source": [
    "print(get_user_id(\"liannehr\"))\n",
    "print(get_user_name(11033))\n",
    "\n",
    "print(get_movie_id(\"metropolis\"))\n",
    "print(get_movie_name(537))"
   ]
  },
  {
   "cell_type": "code",
   "execution_count": null,
   "id": "64ec111f-4b58-49a3-b587-b9fe4fcd61a3",
   "metadata": {},
   "outputs": [],
   "source": [
    "# Get minimum and maximum rating from the dataset\n",
    "min_rating = df.rating.min()\n",
    "max_rating = df.rating.max()"
   ]
  },
  {
   "cell_type": "markdown",
   "id": "51278558-d2b8-4c96-8691-bf6c9007d24f",
   "metadata": {
    "jp-MarkdownHeadingCollapsed": true
   },
   "source": [
    "# Find best params"
   ]
  },
  {
   "cell_type": "code",
   "execution_count": null,
   "id": "a5fcfaaa-5aa7-4c5e-bf44-b7648d4f2d04",
   "metadata": {},
   "outputs": [],
   "source": [
    "%%time\n",
    " \n",
    "svd = SVD(n_epochs=30, n_factors=100)\n",
    "results = cross_validate(svd, data, measures=['mse', 'rmse'], cv=3, verbose=True)"
   ]
  },
  {
   "cell_type": "code",
   "execution_count": null,
   "id": "c4a462ae-ca29-4f66-ac5c-7cb890c890c5",
   "metadata": {},
   "outputs": [],
   "source": [
    "%%time\n",
    "\n",
    "param_grid = {\n",
    "  'n_factors': [100, 150],\n",
    "  'n_epochs': [20, 35]\n",
    "}\n",
    " \n",
    "gs = GridSearchCV(SVD, param_grid, measures=['mse', 'rmse'], cv=5)\n",
    "gs.fit(data)\n",
    " \n",
    "print(gs.best_score['rmse'])\n",
    "print(gs.best_params['rmse'])\n",
    "print(gs.best_score['mse'])\n",
    "print(gs.best_params['mse'])"
   ]
  },
  {
   "cell_type": "markdown",
   "id": "d079f366-98d2-49b8-9ddb-8fefb9df83e4",
   "metadata": {},
   "source": [
    "# Train"
   ]
  },
  {
   "cell_type": "code",
   "execution_count": null,
   "id": "e862256b-269a-4e91-948c-59fbb18e9d37",
   "metadata": {},
   "outputs": [],
   "source": [
    "%%time\n",
    "\n",
    "reader = Reader(rating_scale=(min_rating, max_rating))\n",
    "data = Dataset.load_from_df(df[['userId', 'movieId', 'rating']], reader)\n",
    "\n",
    "trainset, testset = train_test_split(data, test_size=.1)\n",
    " \n",
    "svd = SVD(n_factors=100, n_epochs=30, verbose=True)\n",
    "svd.fit(trainset)\n",
    "\n",
    "predictions = svd.test(testset)\n",
    "rmse = accuracy.rmse(predictions)\n",
    "print(f\"Test RMSE: {rmse}\")"
   ]
  },
  {
   "cell_type": "markdown",
   "id": "4ba9a25a-6200-4031-bb23-c0a45bf0cc3c",
   "metadata": {},
   "source": [
    "# Recommend"
   ]
  },
  {
   "cell_type": "code",
   "execution_count": null,
   "id": "ba4415b7-8d5b-4499-8de7-aa2d78b3e492",
   "metadata": {},
   "outputs": [],
   "source": [
    "watchlist1_ids = [get_movie_id(slug) for slug in watchlist1 if get_movie_id(slug) is not None]\n",
    "watchlist2_ids = [get_movie_id(slug) for slug in watchlist2 if get_movie_id(slug) is not None]\n",
    "common_watchlist = list(set(watchlist1_ids).intersection(set(watchlist2_ids)))\n",
    "union_watchlist = list(set(watchlist1_ids).union(set(watchlist2_ids)))"
   ]
  },
  {
   "cell_type": "code",
   "execution_count": null,
   "id": "a77c85f1-793e-4f35-ba8f-1315e46fb4ed",
   "metadata": {},
   "outputs": [],
   "source": [
    "def generate_recommendation(model, user_id, ratings_df, n_items):\n",
    "    movie_ids = ratings_df[\"movieId\"].unique()\n",
    "    movie_ids_user = ratings_df.loc[ratings_df[\"userId\"] == user_id, \"movieId\"]\n",
    "    movie_ids_to_pred = np.setdiff1d(movie_ids, movie_ids_user)\n",
    "     \n",
    "    # Apply a rating of 4 to all interactions (only to match the Surprise dataset format)\n",
    "    test_set = [[user_id, movie_id, 4] for movie_id in movie_ids_to_pred]\n",
    "    \n",
    "    predictions = model.test(test_set)\n",
    "    \n",
    "    pred_ratings = np.array([pred.est for pred in predictions])\n",
    "    index_max = (-pred_ratings).argsort()[:n_items]\n",
    "\n",
    "    print(\"Top {0} item recommendations for user {1} ({2}):\".format(n_items, get_user_name(user_id), user_id))\n",
    "    for i in index_max:\n",
    "       movie_id = movie_ids_to_pred[i]\n",
    "       print(f\"{get_movie_name(movie_id):<50} {round(pred_ratings[i], 3):>6}\")\n",
    " \n",
    " \n",
    "userID = get_user_id(\"liannehr\")\n",
    "n_items = 100\n",
    "\n",
    "generate_recommendation(svd, userID, df, n_items)"
   ]
  },
  {
   "cell_type": "code",
   "execution_count": null,
   "id": "0a0080f9-dc02-4d24-8299-abc03af33801",
   "metadata": {},
   "outputs": [],
   "source": [
    "userID = get_user_id(\"sverlaan\")\n",
    "n_items = 100\n",
    "\n",
    "generate_recommendation(svd, userID, df, n_items)"
   ]
  },
  {
   "cell_type": "code",
   "execution_count": null,
   "id": "4c27bccd-d1b1-4592-a140-6d728bb4a6d1",
   "metadata": {},
   "outputs": [],
   "source": [
    "# TODO: maak de similarity hier beneden onderdeel van de specifieke user (bijv. top-3 meest similar met je 5/4.5/4 ster gerated films)\n",
    "\n",
    "\n",
    "\n",
    "\n",
    "def get_similar_movies(movie_id, model, trainset, top_n=5):\n",
    "    movie_id_mapping = {inner_id: trainset.to_raw_iid(inner_id) for inner_id in trainset.all_items()}\n",
    "    \n",
    "    if movie_id not in movie_id_mapping.values():\n",
    "        return \"Movie ID not in training set\"\n",
    "\n",
    "    inner_id = trainset.to_inner_iid(movie_id)\n",
    "\n",
    "    movie_embeddings = model.qi\n",
    "    \n",
    "    similarities = cosine_similarity([movie_embeddings[inner_id]], movie_embeddings)[0]\n",
    "    similar_indices = similarities.argsort()[::-1][1:top_n+1]\n",
    "    \n",
    "    similar_movie_ids = [movie_id_mapping[idx] for idx in similar_indices]\n",
    "\n",
    "    return similar_movie_ids\n",
    "\n",
    "\n",
    "movie_id = get_movie_id(\"dead-man\")\n",
    "\n",
    "similar_movies = get_similar_movies(movie_id, svd, trainset, 5)\n",
    "print(f\"Movies similar to {get_movie_name(movie_id)}\")\n",
    "for movie in similar_movies:\n",
    "    print(get_movie_name(movie))"
   ]
  },
  {
   "cell_type": "markdown",
   "id": "77c7b382-0dad-4235-8d49-3fe1a4f6819a",
   "metadata": {},
   "source": [
    "# store and load model"
   ]
  },
  {
   "cell_type": "code",
   "execution_count": null,
   "id": "897b9dbb-7244-4c1a-875b-b6b1699817f1",
   "metadata": {},
   "outputs": [],
   "source": [
    "# Save the model to a file\n",
    "with open('model/pre_model.pkl', 'wb') as file:\n",
    "    pickle.dump(svd, file)\n",
    "\n",
    "with open('model/pre_trainset.pkl', 'wb') as file:\n",
    "    pickle.dump(trainset, file)\n",
    "\n",
    "with open('model/pre_item_mapping.pkl', 'wb') as file:\n",
    "    pickle.dump(item_mapping, file)"
   ]
  },
  {
   "cell_type": "code",
   "execution_count": null,
   "id": "57e470ef-7bb4-464c-bc05-f591030cf77a",
   "metadata": {},
   "outputs": [],
   "source": [
    "# Load the model using Pickle\n",
    "with open('model/pre_model.pkl', 'rb') as file:\n",
    "    loaded_model = pickle.load(file)"
   ]
  },
  {
   "cell_type": "code",
   "execution_count": null,
   "id": "42cbd9b2-057e-4555-97a0-5d98627ce9fa",
   "metadata": {},
   "outputs": [],
   "source": [
    "userID = get_user_id(\"sverlaan\")\n",
    "n_items = 10\n",
    "\n",
    "# You need the loaded model and df with ratings to get new recommendations. df should contain the user for which to make a prediction\n",
    "# Also need the user and movie ID mapping\n",
    "# all this can be computed locally when personalized recommendations is requested\n",
    "generate_recommendation(loaded_model, userID, df, n_items)"
   ]
  },
  {
   "cell_type": "code",
   "execution_count": 4,
   "id": "ae615041-a115-4ab3-ba6f-c96dffc1907f",
   "metadata": {},
   "outputs": [],
   "source": [
    "with open('model/pre_model.pkl', 'rb') as file:\n",
    "    pre_model = pickle.load(file)\n",
    "\n",
    "with open('model/pre_trainset.pkl', 'rb') as file:\n",
    "    trainset = pickle.load(file)\n",
    "\n",
    "with open('model/pre_item_mapping.pkl', 'rb') as file:\n",
    "    item_mapping = pickle.load(file)"
   ]
  },
  {
   "cell_type": "code",
   "execution_count": 7,
   "id": "0ddc109b-cf06-4d62-ab55-54e1f31481f4",
   "metadata": {},
   "outputs": [
    {
     "name": "stdout",
     "output_type": "stream",
     "text": [
      "Movies similar to the-worst-person-in-the-world\n",
      "past-lives\n",
      "minari\n",
      "tar-2022\n",
      "aftersun\n",
      "shiva-baby-2020\n"
     ]
    }
   ],
   "source": [
    "def get_movie_id(slug):\n",
    "    try:\n",
    "        return item_mapping.tolist().index(slug)\n",
    "    except:\n",
    "        return None\n",
    "        \n",
    "def get_movie_name(id):\n",
    "    try:\n",
    "        return item_mapping[id]\n",
    "    except:\n",
    "        return None\n",
    "\n",
    "\n",
    "def get_similar_movies(movie_id, model, trainset, top_n=5):\n",
    "    movie_id_mapping = {inner_id: trainset.to_raw_iid(inner_id) for inner_id in trainset.all_items()}\n",
    "    \n",
    "    if movie_id not in movie_id_mapping.values():\n",
    "        return \"Movie ID not in training set\"\n",
    "\n",
    "    inner_id = trainset.to_inner_iid(movie_id)\n",
    "\n",
    "    movie_embeddings = model.qi\n",
    "    \n",
    "    similarities = cosine_similarity([movie_embeddings[inner_id]], movie_embeddings)[0]\n",
    "    similar_indices = similarities.argsort()[::-1][1:top_n+1]\n",
    "    \n",
    "    similar_movie_ids = [movie_id_mapping[idx] for idx in similar_indices]\n",
    "\n",
    "    return similar_movie_ids\n",
    "\n",
    "\n",
    "movie_id = get_movie_id(\"the-worst-person-in-the-world\")\n",
    "\n",
    "similar_movies = get_similar_movies(movie_id, pre_model, trainset, 5)\n",
    "print(f\"Movies similar to {get_movie_name(movie_id)}\")\n",
    "for movie in similar_movies:\n",
    "    print(get_movie_name(movie))"
   ]
  },
  {
   "cell_type": "code",
   "execution_count": null,
   "id": "683a856b-ef67-4b2d-ba89-98b260bb9360",
   "metadata": {},
   "outputs": [],
   "source": []
  },
  {
   "cell_type": "code",
   "execution_count": null,
   "id": "7298b7b4-c88d-4cd4-90a5-af3465677927",
   "metadata": {},
   "outputs": [],
   "source": []
  },
  {
   "cell_type": "code",
   "execution_count": null,
   "id": "dddf4979-cbac-43f6-991f-a4806e697948",
   "metadata": {},
   "outputs": [],
   "source": []
  },
  {
   "cell_type": "code",
   "execution_count": null,
   "id": "2d31d064-a86d-4f5a-b16d-3c5ec11f8325",
   "metadata": {},
   "outputs": [],
   "source": []
  },
  {
   "cell_type": "code",
   "execution_count": null,
   "id": "7da0cff8-efa9-4914-9294-4fb35f117416",
   "metadata": {},
   "outputs": [],
   "source": [
    "from matrix_factorization import BaselineModel, KernelMF, train_update_test_split\n",
    "\n",
    "import pandas as pd\n",
    "import numpy as np\n",
    "from sklearn.metrics import mean_squared_error\n",
    "\n",
    "X = movie_data[[\"user_id\", \"item_id\"]]\n",
    "y = movie_data[\"rating\"]\n",
    "\n",
    "\n",
    "#Prepare data for online learning\n",
    "(\n",
    "    X_train_initial,\n",
    "    y_train_initial,\n",
    "    X_train_update,\n",
    "    y_train_update,\n",
    "    X_test_update,\n",
    "    y_test_update,\n",
    ") = train_update_test_split(movie_data, frac_new_users=0.2)\n",
    "\n",
    "# Prepare data\n",
    "#X_train, X_test, y_train, y_test = train_test_split(X, y, test_size=0.2)"
   ]
  },
  {
   "cell_type": "code",
   "execution_count": null,
   "id": "0daf9593-3224-42bb-a9c5-83ff38a3fb8b",
   "metadata": {},
   "outputs": [],
   "source": []
  },
  {
   "cell_type": "code",
   "execution_count": null,
   "id": "dc426d87-6c2e-4ce5-9b41-cd33be3df502",
   "metadata": {},
   "outputs": [],
   "source": []
  },
  {
   "cell_type": "code",
   "execution_count": null,
   "id": "cef49df7-0598-480b-8f24-63d6bf0bf47b",
   "metadata": {},
   "outputs": [],
   "source": [
    "# Initial training\n",
    "matrix_fact = KernelMF(n_epochs=20, n_factors=100, verbose=1, lr=0.001, reg=0.005)\n",
    "matrix_fact.fit(X_train_initial, y_train_initial)"
   ]
  },
  {
   "cell_type": "code",
   "execution_count": null,
   "id": "7d85842a-f2ba-46ed-841f-97b9ae59fa14",
   "metadata": {},
   "outputs": [],
   "source": [
    "baseline_model = BaselineModel(method='sgd', n_epochs = 20, reg = 0.005, lr = 0.01, verbose=1)\n",
    "baseline_model.fit(X_train.to_numpy(), y_train)\n",
    "\n",
    "pred = baseline_model.predict(X_test)\n",
    "rmse = mean_squared_error(y_test, pred, squared = False)\n",
    "\n",
    "print(f'\\nTest RMSE: {rmse:.4f}')"
   ]
  },
  {
   "cell_type": "code",
   "execution_count": null,
   "id": "14b3ac6f-db2c-4f87-987f-f81e80eed91d",
   "metadata": {},
   "outputs": [],
   "source": [
    "# Initial training\n",
    "matrix_fact = KernelMF(n_epochs=20, n_factors=100, verbose=1, lr=0.001, reg=0.005)\n",
    "matrix_fact.fit(X_train_initial, y_train_initial)\n"
   ]
  },
  {
   "cell_type": "code",
   "execution_count": null,
   "id": "0e086b03-fe93-4b3b-8f48-af9174610450",
   "metadata": {},
   "outputs": [],
   "source": []
  },
  {
   "cell_type": "code",
   "execution_count": null,
   "id": "c30c6e5b-9da0-451e-8468-869209aab3e7",
   "metadata": {},
   "outputs": [],
   "source": []
  },
  {
   "cell_type": "code",
   "execution_count": null,
   "id": "3fa5eb84-c79a-4759-9d41-797ecf2aba41",
   "metadata": {},
   "outputs": [],
   "source": []
  },
  {
   "cell_type": "code",
   "execution_count": null,
   "id": "e64f88ef-7e51-4fb2-bdcf-dae2bbbe84c2",
   "metadata": {},
   "outputs": [],
   "source": []
  },
  {
   "cell_type": "code",
   "execution_count": null,
   "id": "a9b551d8-f092-49d1-b58a-fd149c756b7e",
   "metadata": {},
   "outputs": [],
   "source": []
  },
  {
   "cell_type": "code",
   "execution_count": null,
   "id": "abb8d9b0-7093-4a01-8ae3-3d87f2122314",
   "metadata": {},
   "outputs": [],
   "source": []
  },
  {
   "cell_type": "code",
   "execution_count": null,
   "id": "7caca2d0-9242-49ab-9ab4-77180e3b4dd8",
   "metadata": {},
   "outputs": [],
   "source": []
  },
  {
   "cell_type": "code",
   "execution_count": null,
   "id": "d855b433-acd4-4092-ac0b-15b6fa9a1621",
   "metadata": {},
   "outputs": [],
   "source": []
  }
 ],
 "metadata": {
  "kernelspec": {
   "display_name": "Python 3 (ipykernel)",
   "language": "python",
   "name": "python3"
  },
  "language_info": {
   "codemirror_mode": {
    "name": "ipython",
    "version": 3
   },
   "file_extension": ".py",
   "mimetype": "text/x-python",
   "name": "python",
   "nbconvert_exporter": "python",
   "pygments_lexer": "ipython3",
   "version": "3.10.12"
  }
 },
 "nbformat": 4,
 "nbformat_minor": 5
}
